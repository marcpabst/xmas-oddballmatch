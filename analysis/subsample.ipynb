{
 "metadata": {
  "language_info": {
   "codemirror_mode": {
    "name": "ipython",
    "version": 3
   },
   "file_extension": ".py",
   "mimetype": "text/x-python",
   "name": "python",
   "nbconvert_exporter": "python",
   "pygments_lexer": "ipython3",
   "version": "3.8.5-final"
  },
  "orig_nbformat": 2,
  "kernelspec": {
   "name": "python38264bitenvvenv500f308f313b45eeaf82c32beb5092d7",
   "display_name": "Python 3.8.2 64-bit ('env': venv)"
  }
 },
 "nbformat": 4,
 "nbformat_minor": 2,
 "cells": [
  {
   "source": [
    "from configuration import load_configuration\n",
    "\n",
    "import utils\n",
    "\n",
    "from os.path import join\n",
    "import mne\n",
    "from mne_bids import make_bids_basename, read_raw_bids\n",
    "from mne_bids.utils import get_entity_vals\n",
    "\n",
    "import plotting\n",
    "\n",
    "from autoreject import AutoReject\n",
    "import seaborn as sns\n",
    "\n",
    "config = None\n",
    "\n",
    "\n",
    "nums = [100, 200, 300, 400, 500]\n",
    "N = 10\n",
    "peak_latency = 0.135\n",
    "\n",
    "\n",
    "bids_root_path= \"/media/marc/Medien/xmasoddballmatch-bids\"\n",
    "pipeline_name = \"pipeline01\"\n",
    "\n",
    "ids = get_entity_vals(join(bids_root_path, \"derivatives\"), \"sub\") \n",
    "\n"
   ],
   "cell_type": "code",
   "metadata": {},
   "execution_count": 2,
   "outputs": [
    {
     "output_type": "error",
     "ename": "SyntaxError",
     "evalue": "invalid syntax (<ipython-input-2-8a8a8059fac2>, line 28)",
     "traceback": [
      "\u001b[0;36m  File \u001b[0;32m\"<ipython-input-2-8a8a8059fac2>\"\u001b[0;36m, line \u001b[0;32m28\u001b[0m\n\u001b[0;31m    spha_rel <- function(x,y) {\u001b[0m\n\u001b[0m                              ^\u001b[0m\n\u001b[0;31mSyntaxError\u001b[0m\u001b[0;31m:\u001b[0m invalid syntax\n"
     ]
    }
   ]
  },
  {
   "source": [
    "## Load Cleaned Raw Data from Disk"
   ],
   "cell_type": "markdown",
   "metadata": {}
  },
  {
   "cell_type": "code",
   "execution_count": 4,
   "metadata": {},
   "outputs": [],
   "source": [
    "def load_and_epoch(id):\n",
    "    # Load Data\n",
    "    raw_filename = utils.get_derivative_file_name(\n",
    "        bids_root_path, id, pipeline_name, \".fif\", suffix=\"raw\", processing=\"cleaned\")\n",
    "    events_filename = utils.get_derivative_file_name(\n",
    "        bids_root_path, id, pipeline_name, \".txt\", suffix=\"eve\", processing=\"prepared\")\n",
    "    raw = mne.io.read_raw_fif(raw_filename, preload=True)\n",
    "    events = mne.read_events(events_filename)\n",
    "\n",
    "    # Epoch Data\n",
    "    raw.pick([\"eeg\", \"eog\"])\n",
    "    epochs = mne.Epochs(raw, events, config[\"events_dict\"],\n",
    "                        tmin=config[\"epoch_window\"][0],\n",
    "                        tmax=config[\"epoch_window\"][1],\n",
    "                        baseline=config[\"baseline_winow\"],\n",
    "                        #reject=config[\"diff_criterion\"],\n",
    "                        reject=None,\n",
    "                        preload=True)\n",
    "\n",
    "    # Fit AutoReject\n",
    "    ar = AutoReject(verbose = False)\n",
    "    ar.fit(epochs)\n",
    "\n",
    "    return epochs, ar"
   ]
  },
  {
   "source": [
    "## Epoch Data"
   ],
   "cell_type": "markdown",
   "metadata": {}
  },
  {
   "cell_type": "code",
   "execution_count": 1,
   "metadata": {},
   "outputs": [
    {
     "output_type": "error",
     "ename": "NameError",
     "evalue": "name 'ids' is not defined",
     "traceback": [
      "\u001b[0;31m---------------------------------------------------------------------------\u001b[0m",
      "\u001b[0;31mNameError\u001b[0m                                 Traceback (most recent call last)",
      "\u001b[0;32m<ipython-input-1-e2803b3b5764>\u001b[0m in \u001b[0;36m<module>\u001b[0;34m\u001b[0m\n\u001b[0;32m----> 1\u001b[0;31m \u001b[0mids\u001b[0m\u001b[0;34m\u001b[0m\u001b[0;34m\u001b[0m\u001b[0m\n\u001b[0m",
      "\u001b[0;31mNameError\u001b[0m: name 'ids' is not defined"
     ]
    }
   ],
   "source": [
    "ids"
   ]
  },
  {
   "source": [
    "## Fit AutoReject"
   ],
   "cell_type": "markdown",
   "metadata": {}
  },
  {
   "cell_type": "code",
   "execution_count": 2,
   "metadata": {},
   "outputs": [
    {
     "output_type": "error",
     "ename": "NameError",
     "evalue": "name 'nums' is not defined",
     "traceback": [
      "\u001b[0;31m---------------------------------------------------------------------------\u001b[0m",
      "\u001b[0;31mNameError\u001b[0m                                 Traceback (most recent call last)",
      "\u001b[0;32m<ipython-input-2-d9321f744365>\u001b[0m in \u001b[0;36m<module>\u001b[0;34m\u001b[0m\n\u001b[1;32m     21\u001b[0m \u001b[0;34m\u001b[0m\u001b[0m\n\u001b[1;32m     22\u001b[0m \u001b[0;34m\u001b[0m\u001b[0m\n\u001b[0;32m---> 23\u001b[0;31m \u001b[0meffects\u001b[0m \u001b[0;34m=\u001b[0m \u001b[0;34m{\u001b[0m\u001b[0mkey\u001b[0m\u001b[0;34m:\u001b[0m\u001b[0;34m[\u001b[0m\u001b[0;34m]\u001b[0m \u001b[0;32mfor\u001b[0m \u001b[0mkey\u001b[0m \u001b[0;32min\u001b[0m \u001b[0mnums\u001b[0m\u001b[0;34m}\u001b[0m\u001b[0;34m\u001b[0m\u001b[0;34m\u001b[0m\u001b[0m\n\u001b[0m\u001b[1;32m     24\u001b[0m \u001b[0;34m\u001b[0m\u001b[0m\n\u001b[1;32m     25\u001b[0m \u001b[0;32mfor\u001b[0m \u001b[0mi\u001b[0m\u001b[0;34m,\u001b[0m\u001b[0mid\u001b[0m \u001b[0;32min\u001b[0m \u001b[0menumerate\u001b[0m\u001b[0;34m(\u001b[0m\u001b[0mids\u001b[0m\u001b[0;34m)\u001b[0m\u001b[0;34m:\u001b[0m\u001b[0;34m\u001b[0m\u001b[0;34m\u001b[0m\u001b[0m\n",
      "\u001b[0;31mNameError\u001b[0m: name 'nums' is not defined"
     ]
    }
   ],
   "source": [
    "cond1 = \"random/standard\"\n",
    "cond2 = \"random/deviant\"\n",
    "\n",
    "def get_mean_amplitudes(evokeds, window, picks = \"all\"):\n",
    "\n",
    "    means = []\n",
    "    if isinstance(evokeds, list):\n",
    "        for i, evoked in enumerate(evokeds):\n",
    "            evoked = evoked.copy().pick(picks)\n",
    "\n",
    "            _window = np.arange(evoked.time_as_index(window[0]),\n",
    "                                evoked.time_as_index(window[1]))\n",
    "\n",
    "            data = evoked.data[:, _window]\n",
    "            mean = data.mean()\n",
    "            means.append(mean)\n",
    "    else:\n",
    "        return get_mean_amplitudes([evokeds], window, picks)[0]\n",
    "\n",
    "    return means\n",
    "\n",
    "\n",
    "effects = {key:[] for key in nums}\n",
    "\n",
    "for i,id in enumerate(ids):            \n",
    "    epochs, ar = load_and_epoch(id)\n",
    "\n",
    "    for num in nums:\n",
    "        # create tmp a list to hold effects\n",
    "        tmp_effects = []\n",
    "\n",
    "        for n in range(N):\n",
    "            evokeds = {cond: [] for cond in [cond1, cond2]}\n",
    "            \n",
    "            for cond in [cond1, cond2]:\n",
    "                # select epochs\n",
    "                s_epochs = epochs[cond]\n",
    "\n",
    "                # draw a random sample of epochs\n",
    "                idx = list(range(len(s_epochs)))\n",
    "                retain_idx = np.random.choice(idx, num)\n",
    "                drop_idx = set(idx) - set(retain_idx)\n",
    "                subsample_epochs = s_epochs.copy().drop(drop_idx)\n",
    "\n",
    "                # apply autoreject\n",
    "                subsample_epochs = ar.transform(subsample_epochs)\n",
    "                # average\n",
    "                evokeds[cond].append(subsample_epochs.average())\n",
    "\n",
    "            # calculate amplitude differenc (effect estimate)\n",
    "            diff_waves = [mne.combine_evoked([e1,e2], [1,-1]) for e1,e2 in zip(evokeds[\"random/standard\"], evokeds[\"random/deviant\"])]\n",
    "            mean_amplitudes = get_mean_amplitudes(diff_waves, peakwindow, picks = [\"FZ\"]) \n",
    "            tmp_effects.append(mean(mean_amplitudes))\n",
    "            # calculate p-value\n",
    "            # store value somewhere\n",
    "        effects[num].append(mean(tmp_effects))"
   ]
  },
  {
   "cell_type": "code",
   "execution_count": null,
   "metadata": {},
   "outputs": [],
   "source": []
  }
 ]
}