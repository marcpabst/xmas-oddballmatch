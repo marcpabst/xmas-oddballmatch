{
 "cells": [
  {
   "cell_type": "markdown",
   "metadata": {},
   "source": [
    "# Statistical Analysis of ERP"
   ]
  },
  {
   "cell_type": "code",
   "execution_count": 4,
   "metadata": {},
   "outputs": [],
   "source": [
    "bids_root_path_100 = \"/media/marc/Medien/xmasoddballmatch-bids\"\n",
    "pipeline_name_100 = \"pipeline01\"        \n",
    "    \n",
    "bids_root_path_150 = \"/media/marc/Medien/machristine-bids\"\n",
    "pipeline_name_150 = \"pipeline_christine\""
   ]
  },
  {
   "cell_type": "code",
   "execution_count": 5,
   "metadata": {},
   "outputs": [],
   "source": [
    "from configuration import load_configuration\n",
    "\n",
    "import utils\n",
    "\n",
    "from os.path import join\n",
    "import mne\n",
    "from mne_bids import make_bids_basename, read_raw_bids\n",
    "from mne_bids.utils import get_entity_vals\n",
    "\n",
    "import plotting\n",
    "\n",
    "import seaborn as sns\n",
    "import matplotlib.pyplot as plt\n",
    "import matplotlib\n",
    "import numpy as np\n",
    "import ptitprince as pt\n",
    "import pandas as pd\n",
    "import matplotlib.gridspec as gridspec\n",
    "import scipy as sp\n",
    "from copy import deepcopy\n",
    "\n",
    "plt.ioff()\n",
    "\n",
    "config = load_configuration()\n",
    "\n",
    "%matplotlib inline"
   ]
  },
  {
   "cell_type": "code",
   "execution_count": 6,
   "metadata": {},
   "outputs": [],
   "source": [
    "def difference_wave(evokeds_as_dict, conditions, grandaverage=False):\n",
    "    out = [mne.combine_evoked([a, b], [1,-1]) for a, b in zip(\n",
    "        evokeds_as_dict[conditions[0]], evokeds_as_dict[conditions[1]])]\n",
    "    if grandaverage:\n",
    "        return mne.grand_average(out)\n",
    "    else:\n",
    "        return out\n",
    "\n",
    "def get_mean_amplitudes(evokeds, window, picks = \"all\"):\n",
    "\n",
    "    means = []\n",
    "    if isinstance(evokeds, list):\n",
    "        for i, evoked in enumerate(evokeds):\n",
    "            evoked = evoked.copy().pick(picks)\n",
    "\n",
    "            _window = np.arange(evoked.time_as_index(window[0]),\n",
    "                                evoked.time_as_index(window[1]))\n",
    "\n",
    "            data = evoked.data[:, _window]\n",
    "            mean = data.mean()\n",
    "            means.append(mean)\n",
    "    else:\n",
    "        return get_mean_amplitudes([evokeds], window, picks)[0]\n",
    "\n",
    "    return means\n",
    "\n"
   ]
  },
  {
   "cell_type": "markdown",
   "metadata": {},
   "source": [
    "## Load Data From Disk"
   ]
  },
  {
   "cell_type": "code",
   "execution_count": 7,
   "metadata": {},
   "outputs": [],
   "source": [
    "%%capture\n",
    "ids_100 = get_entity_vals(join(bids_root_path_100, \"derivatives\"), \"sub\") \n",
    "ave_filenames_100 = [utils.get_derivative_file_name(\n",
    "        bids_root_path_100, id, pipeline_name_100, \".fif\", suffix=\"ave\") for id in ids_100]\n",
    "all_evokeds_100 = [mne.read_evokeds(ave_filename) for ave_filename in ave_filenames_100]\n",
    "\n",
    "ids_150 = get_entity_vals(join(bids_root_path_150, \"derivatives\"), \"sub\") \n",
    "ave_filenames_150 = [utils.get_derivative_file_name(\n",
    "        bids_root_path_150, id, pipeline_name_150, \".fif\", suffix=\"ave\") for id in ids_150]\n",
    "all_evokeds_150 = [mne.read_evokeds(ave_filename) for ave_filename in ave_filenames_150]\n",
    "\n",
    "evokeds_list_as_dict = {}\n",
    "\n",
    "evokeds_list_as_dict[\"100\"] = {key: [] for key in config[\"conditions_of_interest\"]}\n",
    "\n",
    "for evokeds_list in all_evokeds_100:\n",
    "    for evoked in evokeds_list:\n",
    "        try:\n",
    "            evokeds_list_as_dict[\"100\"][evoked.comment].append(evoked)\n",
    "        except KeyError:\n",
    "            pass\n",
    "            print(\"Missing condition in list.\")\n",
    "\n",
    "evokeds_list_as_dict[\"150\"] = {key: [] for key in config[\"conditions_of_interest\"]}\n",
    "\n",
    "for evokeds_list in all_evokeds_150:\n",
    "    for evoked in evokeds_list:\n",
    "        try:\n",
    "            evokeds_list_as_dict[\"150\"][evoked.comment].append(evoked)\n",
    "        except KeyError:\n",
    "            pass\n",
    "            print(\"Missing condition in list.\")"
   ]
  },
  {
   "cell_type": "code",
   "execution_count": 8,
   "metadata": {},
   "outputs": [
    {
     "name": "stdout",
     "output_type": "stream",
     "text": [
      "Identifying common channels ...\n",
      "Peak Latency is 0.134765625 s.\n"
     ]
    }
   ],
   "source": [
    "# Find peak and find a window (±25ms) \n",
    "diff = difference_wave(evokeds_list_as_dict[\"100\"], (\"random/deviant\", \"random/standard\"), grandaverage=True)\n",
    "peak_latency = diff.pick(picks=\"FZ\").get_peak(tmin = .1, tmax = .2,  return_amplitude = True)[1]\n",
    "\n",
    "peakwindow = (peak_latency-0.025, peak_latency+0.025)\n",
    "\n",
    "print(\"Peak Latency is {} s.\".format(peak_latency))"
   ]
  },
  {
   "cell_type": "markdown",
   "metadata": {},
   "source": [
    "## Create DataFrame containing Mean Amplitudes"
   ]
  },
  {
   "cell_type": "raw",
   "metadata": {},
   "source": []
  },
  {
   "cell_type": "code",
   "execution_count": 10,
   "metadata": {},
   "outputs": [
    {
     "data": {
      "text/html": "<div>\n<style scoped>\n    .dataframe tbody tr th:only-of-type {\n        vertical-align: middle;\n    }\n\n    .dataframe tbody tr th {\n        vertical-align: top;\n    }\n\n    .dataframe thead th {\n        text-align: right;\n    }\n</style>\n<table border=\"1\" class=\"dataframe\">\n  <thead>\n    <tr style=\"text-align: right;\">\n      <th></th>\n      <th>SOA</th>\n      <th>Participant</th>\n      <th>Condition</th>\n      <th>StimulusType</th>\n      <th>MeanAmplitude</th>\n      <th>Electrode</th>\n    </tr>\n  </thead>\n  <tbody>\n    <tr>\n      <th>0</th>\n      <td>100</td>\n      <td>100_0</td>\n      <td>random</td>\n      <td>B</td>\n      <td>1.458006e-06</td>\n      <td>FZ</td>\n    </tr>\n    <tr>\n      <th>1</th>\n      <td>100</td>\n      <td>100_1</td>\n      <td>random</td>\n      <td>B</td>\n      <td>2.571833e-08</td>\n      <td>FZ</td>\n    </tr>\n    <tr>\n      <th>2</th>\n      <td>100</td>\n      <td>100_2</td>\n      <td>random</td>\n      <td>B</td>\n      <td>1.964786e-07</td>\n      <td>FZ</td>\n    </tr>\n    <tr>\n      <th>3</th>\n      <td>100</td>\n      <td>100_3</td>\n      <td>random</td>\n      <td>B</td>\n      <td>-4.050463e-07</td>\n      <td>FZ</td>\n    </tr>\n    <tr>\n      <th>4</th>\n      <td>100</td>\n      <td>100_4</td>\n      <td>random</td>\n      <td>B</td>\n      <td>-1.272691e-06</td>\n      <td>FZ</td>\n    </tr>\n    <tr>\n      <th>...</th>\n      <td>...</td>\n      <td>...</td>\n      <td>...</td>\n      <td>...</td>\n      <td>...</td>\n      <td>...</td>\n    </tr>\n    <tr>\n      <th>1027</th>\n      <td>150</td>\n      <td>150_18</td>\n      <td>predictable</td>\n      <td>A</td>\n      <td>1.594561e-08</td>\n      <td>mastoidspooled</td>\n    </tr>\n    <tr>\n      <th>1028</th>\n      <td>150</td>\n      <td>150_19</td>\n      <td>predictable</td>\n      <td>A</td>\n      <td>-5.340786e-07</td>\n      <td>mastoidspooled</td>\n    </tr>\n    <tr>\n      <th>1029</th>\n      <td>150</td>\n      <td>150_20</td>\n      <td>predictable</td>\n      <td>A</td>\n      <td>-6.373576e-07</td>\n      <td>mastoidspooled</td>\n    </tr>\n    <tr>\n      <th>1030</th>\n      <td>150</td>\n      <td>150_21</td>\n      <td>predictable</td>\n      <td>A</td>\n      <td>-5.829842e-08</td>\n      <td>mastoidspooled</td>\n    </tr>\n    <tr>\n      <th>1031</th>\n      <td>150</td>\n      <td>150_22</td>\n      <td>predictable</td>\n      <td>A</td>\n      <td>-2.242374e-07</td>\n      <td>mastoidspooled</td>\n    </tr>\n  </tbody>\n</table>\n<p>1032 rows × 6 columns</p>\n</div>",
      "text/plain": "      SOA Participant    Condition StimulusType  MeanAmplitude       Electrode\n0     100       100_0       random            B   1.458006e-06              FZ\n1     100       100_1       random            B   2.571833e-08              FZ\n2     100       100_2       random            B   1.964786e-07              FZ\n3     100       100_3       random            B  -4.050463e-07              FZ\n4     100       100_4       random            B  -1.272691e-06              FZ\n...   ...         ...          ...          ...            ...             ...\n1027  150      150_18  predictable            A   1.594561e-08  mastoidspooled\n1028  150      150_19  predictable            A  -5.340786e-07  mastoidspooled\n1029  150      150_20  predictable            A  -6.373576e-07  mastoidspooled\n1030  150      150_21  predictable            A  -5.829842e-08  mastoidspooled\n1031  150      150_22  predictable            A  -2.242374e-07  mastoidspooled\n\n[1032 rows x 6 columns]"
     },
     "execution_count": 10,
     "metadata": {},
     "output_type": "execute_result"
    }
   ],
   "source": [
    "conditions       = {(\"100\", \"random\", \"B\"): \"random/5/deviant\",\n",
    "                    (\"100\", \"random\", \"A\"): \"random/4/standard\",\n",
    "                    (\"100\", \"predictable\", \"B\"): \"predictable/5/deviant\",\n",
    "                    (\"100\", \"predictable\", \"A\"): \"predictable/4/standard\",\n",
    "\n",
    "                    (\"150\", \"random\", \"B\"): \"random/5/deviant\",\n",
    "                    (\"150\", \"random\", \"A\"): \"random/4/standard\",\n",
    "                    (\"150\", \"predictable\", \"B\"): \"predictable/5/deviant\",\n",
    "                    (\"150\", \"predictable\", \"A\"): \"predictable/4/standard\"}\n",
    "\n",
    "electrodes = {\"FZ\":\"FZ\", \"CZ\":\"CZ\", \"M1\": \"M1\", \"M2\": \"M2\", \"fronto_pooled\": [\"FZ\", \"F3\", \"F4\", \"FC1\", \"FC2\"], \"mastoids_pooled\": [\"M1\", \"M2\"]}\n",
    "\n",
    "amplitudes = [{ \"SOA\":key[0], \"Participant\":key[0] + \"_\" + str(i), \n",
    "                \"Condition\":key[1], \"StimulusType\":key[2], \n",
    "                \"MeanAmplitude\": amplitude,\n",
    "                \"Electrode\": electrode} \n",
    "                    for key,value in conditions.items() \n",
    "                    for electrode, pick in electrodes.items()\n",
    "                    for i, amplitude in enumerate(get_mean_amplitudes(evokeds_list_as_dict[key[0]][value], peakwindow, picks=pick)) ]\n",
    "amplitudes_df = pd.DataFrame(amplitudes)\n",
    "\n",
    "amplitudes_df.to_csv(\"../data/mean_amplitudes.csv\", index=False)\n",
    "\n",
    "amplitudes_df\n"
   ]
  },
  {
   "cell_type": "code",
   "execution_count": 21,
   "metadata": {},
   "outputs": [
    {
     "data": {
      "text/html": "<div>\n<style scoped>\n    .dataframe tbody tr th:only-of-type {\n        vertical-align: middle;\n    }\n\n    .dataframe tbody tr th {\n        vertical-align: top;\n    }\n\n    .dataframe thead th {\n        text-align: right;\n    }\n</style>\n<table border=\"1\" class=\"dataframe\">\n  <thead>\n    <tr style=\"text-align: right;\">\n      <th></th>\n      <th>SOA</th>\n      <th>Participant</th>\n      <th>Condition</th>\n      <th>StimulusType</th>\n      <th>MeanAmplitude</th>\n    </tr>\n  </thead>\n  <tbody>\n    <tr>\n      <th>0</th>\n      <td>100</td>\n      <td>0</td>\n      <td>random</td>\n      <td>deviant</td>\n      <td>7.014943e-07</td>\n    </tr>\n    <tr>\n      <th>1</th>\n      <td>100</td>\n      <td>1</td>\n      <td>random</td>\n      <td>deviant</td>\n      <td>-5.419357e-08</td>\n    </tr>\n    <tr>\n      <th>2</th>\n      <td>100</td>\n      <td>2</td>\n      <td>random</td>\n      <td>deviant</td>\n      <td>-1.462142e-07</td>\n    </tr>\n    <tr>\n      <th>3</th>\n      <td>100</td>\n      <td>3</td>\n      <td>random</td>\n      <td>deviant</td>\n      <td>-1.685318e-07</td>\n    </tr>\n    <tr>\n      <th>4</th>\n      <td>100</td>\n      <td>4</td>\n      <td>random</td>\n      <td>deviant</td>\n      <td>-2.729278e-07</td>\n    </tr>\n    <tr>\n      <th>...</th>\n      <td>...</td>\n      <td>...</td>\n      <td>...</td>\n      <td>...</td>\n      <td>...</td>\n    </tr>\n    <tr>\n      <th>167</th>\n      <td>150</td>\n      <td>18</td>\n      <td>predictable</td>\n      <td>standard</td>\n      <td>-7.700215e-08</td>\n    </tr>\n    <tr>\n      <th>168</th>\n      <td>150</td>\n      <td>19</td>\n      <td>predictable</td>\n      <td>standard</td>\n      <td>3.078516e-08</td>\n    </tr>\n    <tr>\n      <th>169</th>\n      <td>150</td>\n      <td>20</td>\n      <td>predictable</td>\n      <td>standard</td>\n      <td>-8.682802e-10</td>\n    </tr>\n    <tr>\n      <th>170</th>\n      <td>150</td>\n      <td>21</td>\n      <td>predictable</td>\n      <td>standard</td>\n      <td>1.055579e-07</td>\n    </tr>\n    <tr>\n      <th>171</th>\n      <td>150</td>\n      <td>22</td>\n      <td>predictable</td>\n      <td>standard</td>\n      <td>4.289743e-07</td>\n    </tr>\n  </tbody>\n</table>\n<p>172 rows × 5 columns</p>\n</div>",
      "text/plain": "     SOA  Participant    Condition StimulusType  MeanAmplitude\n0    100            0       random      deviant   7.014943e-07\n1    100            1       random      deviant  -5.419357e-08\n2    100            2       random      deviant  -1.462142e-07\n3    100            3       random      deviant  -1.685318e-07\n4    100            4       random      deviant  -2.729278e-07\n..   ...          ...          ...          ...            ...\n167  150           18  predictable     standard  -7.700215e-08\n168  150           19  predictable     standard   3.078516e-08\n169  150           20  predictable     standard  -8.682802e-10\n170  150           21  predictable     standard   1.055579e-07\n171  150           22  predictable     standard   4.289743e-07\n\n[172 rows x 5 columns]"
     },
     "execution_count": 21,
     "metadata": {},
     "output_type": "execute_result"
    }
   ],
   "source": []
  }
 ],
 "metadata": {
  "kernelspec": {
   "display_name": "Python 3",
   "name": "python3"
  },
  "language_info": {
   "codemirror_mode": {
    "name": "ipython",
    "version": 3
   },
   "file_extension": ".py",
   "mimetype": "text/x-python",
   "name": "python",
   "nbconvert_exporter": "python",
   "pygments_lexer": "ipython3",
   "version": "3.8.5"
  },
  "orig_nbformat": 2
 },
 "nbformat": 4,
 "nbformat_minor": 2
}